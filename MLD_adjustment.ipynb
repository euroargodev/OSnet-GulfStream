{
 "cells": [
  {
   "cell_type": "code",
   "execution_count": 2,
   "metadata": {},
   "outputs": [],
   "source": [
    "#MLD adjustment applied on profiles dataset coming from NN_training.py\n",
    "#date : February 2022\n",
    "#author : Etienne Pauthenet (etienne.pauthenet@gmail.com)\n",
    "import xarray as xr\n",
    "import gsw\n",
    "import numpy as np\n",
    "import matplotlib.pyplot as plt\n",
    "import seaborn as sns"
   ]
  },
  {
   "cell_type": "code",
   "execution_count": 3,
   "metadata": {},
   "outputs": [],
   "source": [
    "osnet_rep = ''\n",
    "ds  = xr.open_dataset(osnet_rep + 'full_ds.nc').load()\n",
    "ds = ds.assign_coords(N_PROF=np.arange(1,len(ds.LONGITUDE)+1))"
   ]
  },
  {
   "cell_type": "code",
   "execution_count": 3,
   "metadata": {},
   "outputs": [],
   "source": [
    "@guvectorize(\n",
    "    \"(float64[:], float64[:], float64[:], float64[:], float64[:], float64[:])\",\n",
    "    \"(n), (n), (n), (n) -> (n), (n)\"\n",
    ")\n",
    "def MLD_adj_1d(temp_in, psal_in, depth, mask, temp, psal):\n",
    "    temp[:] = np.copy(temp_in)\n",
    "    psal[:] = np.copy(psal_in)\n",
    "    for d in range(len(depth)-2, -1, -1):\n",
    "        # apply mask on TEMP and PSAL\n",
    "        temp[d] = (temp_in[d]*mask[d] - temp_in[d+1]*mask[d]) + temp[d+1]\n",
    "        psal[d] = (psal_in[d]*mask[d] - psal_in[d+1]*mask[d]) + psal[d+1]\n",
    "\n",
    "def MLD_adj(ds,mask):\n",
    "    temp_out, psal_out = xr.apply_ufunc(MLD_adj_1d,\n",
    "                                    ds['TEMP_predicted'], ds['PSAL_predicted'], ds['PRES_INTERPOLATED'], mask,\n",
    "                                    input_core_dims=(['PRES_INTERPOLATED'],['PRES_INTERPOLATED'],['PRES_INTERPOLATED'],['PRES_INTERPOLATED']),\n",
    "                                    output_core_dims=(['PRES_INTERPOLATED'],['PRES_INTERPOLATED']),\n",
    "                                    output_dtypes=[np.float64, np.float64])\n",
    "    # get sig adjusted\n",
    "    sa_out = gsw.SA_from_SP(psal_out, ds['PRES_INTERPOLATED'], ds['LONGITUDE'], ds['LATITUDE'])\n",
    "    ct_out = gsw.CT_from_t(sa_out,temp_out,ds['PRES_INTERPOLATED'])\n",
    "    sig_out = gsw.sigma0(sa_out, ct_out)\n",
    "    \n",
    "    ds_out = ds.assign(variables={\"TEMP_adj\": (('N_PROF', 'PRES_INTERPOLATED'), temp_out.data),\n",
    "                                  \"PSAL_adj\": (('N_PROF', 'PRES_INTERPOLATED'), psal_out.data),\n",
    "                                  \"SIG_adj\": (('N_PROF', 'PRES_INTERPOLATED'), sig_out.data)})\n",
    "    return ds_out"
   ]
  },
  {
   "cell_type": "code",
   "execution_count": 29,
   "metadata": {},
   "outputs": [],
   "source": [
    "#Run with the H that gives a minimum SST abs error\n",
    "b = 2\n",
    "b2 = 1\n",
    "H = 0.5664     #For OSnet Gulf Stream\n",
    "mask2 = np.where(ds['MLD_mask'].data<H, ds['MLD_mask'], 1)\n",
    "ds = ds.assign(variables={\"MLD_mask2\": (('N_PROF', 'PRES_INTERPOLATED'), mask2)})\n",
    "mask3 = np.where((ds['MLD_mask']>H) & (ds['MLD_mask']<b2), b-ds['MLD_mask'].data, ds['MLD_mask2'].data)\n",
    "ds = ds.assign(variables={\"MLD_mask3\": (('N_PROF', 'PRES_INTERPOLATED'), mask3)})\n",
    "\n",
    "ds_adj05 = convective_adjustment(ds,mask = ds['MLD_mask2'])\n",
    "out = convective_adjustment(ds,mask = ds['MLD_mask3']).load()\n"
   ]
  },
  {
   "cell_type": "code",
   "execution_count": 30,
   "metadata": {},
   "outputs": [
    {
     "data": {
      "text/plain": [
       "<matplotlib.legend.Legend at 0x2aaaee0fd9a0>"
      ]
     },
     "execution_count": 30,
     "metadata": {},
     "output_type": "execute_result"
    },
    {
     "data": {
      "image/png": "[encoded data removed]",
      "text/plain": [
       "<Figure size 432x288 with 1 Axes>"
      ]
     },
     "metadata": {
      "needs_background": "light"
     },
     "output_type": "display_data"
    }
   ],
   "source": [
    "#Plot example \n",
    "ds.MLD_mask.isel(N_PROF = 1000).plot(y = 'PRES_INTERPOLATED',yincrease = False,label = 'mask predicted',color = 'blue')\n",
    "ds.MLD_mask2.isel(N_PROF = 1000).plot(y = 'PRES_INTERPOLATED',yincrease = False,label = 'mask=1 for depth<MLD',color = 'red')\n",
    "ds.MLD_mask3.isel(N_PROF = 1000).plot(y = 'PRES_INTERPOLATED',yincrease = False,label = 'mask=2-mask for 0.5>mask>1',color = 'green')\n",
    "plt.grid()\n",
    "plt.ylim([1000,0])\n",
    "plt.xlim([-0.5,2])\n",
    "plt.legend(loc = 'lower right')"
   ]
  },
  {
   "cell_type": "code",
   "execution_count": 31,
   "metadata": {
    "tags": []
   },
   "outputs": [],
   "source": [
    "out.to_netcdf(osnet_rep + 'full_ds_adj.nc')"
   ]
  }
 ],
 "metadata": {
  "kernelspec": {
   "display_name": "Python 3",
   "language": "python",
   "name": "python3"
  },
  "language_info": {
   "codemirror_mode": {
    "name": "ipython",
    "version": 3
   },
   "file_extension": ".py",
   "mimetype": "text/x-python",
   "name": "python",
   "nbconvert_exporter": "python",
   "pygments_lexer": "ipython3",
   "version": "3.8.8"
  }
 },
 "nbformat": 4,
 "nbformat_minor": 4
}
