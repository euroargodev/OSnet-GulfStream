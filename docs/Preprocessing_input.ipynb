{
 "cells": [
  {
   "cell_type": "code",
   "execution_count": null,
   "metadata": {},
   "outputs": [],
   "source": [
    "#Preprocessing of input data to be used for creation of gridded product OSnet\n",
    "#date : February 2022\n",
    "#author : Etienne Pauthenet (etienne.pauthenet@gmail.com)\n",
    "\n",
    "import datetime as dt\n",
    "import glob\n",
    "import netCDF4 as nc\n",
    "import numpy as np\n",
    "import os\n",
    "\n",
    "import matplotlib.pyplot as plt\n",
    "import numpy as np\n",
    "import pandas as pd\n",
    "import xarray as xr\n",
    "from gsw import sigma0\n",
    "\n",
    "os.getcwd()"
   ]
  },
  {
   "cell_type": "code",
   "execution_count": null,
   "metadata": {},
   "outputs": [],
   "source": [
    "#Put the MDT, bathy etc on the SLA grid\n",
    "#Create the grid of SLA\n",
    "path = '/home/datawork-lops-bluecloud/osnet/data_remote_sensing/SLA/SLA_Gulf_Stream/'\n",
    "ds_sla = xr.open_mfdataset(path + 'SLA_Gulf_Stream_*.nc',combine='nested', concat_dim='time')\n",
    "ds_sla = ds_sla.assign_coords(lon180=(((ds_sla.longitude + 180) % 360) - 180))  \n",
    "ds_sla['longitude'] = ds_sla.lon180\n",
    "\n",
    "ds_input = xr.Dataset({'lat': (['lat'], ds_sla.latitude),\n",
    "                     'lon': (['lon'], ds_sla.longitude),\n",
    "                    'time':(['time'], ds_sla.time)})\n",
    "\n",
    "sla   = ds_sla.interp(latitude=ds_input.lat,longitude=ds_input.lon,method = 'linear')['sla'].astype(np.float32).values\n",
    "ugos  = ds_sla.interp(latitude=ds_input.lat,longitude=ds_input.lon,method = 'linear')['ugos'].astype(np.float32).values\n",
    "vgos  = ds_sla.interp(latitude=ds_input.lat,longitude=ds_input.lon,method = 'linear')['vgos'].astype(np.float32).values\n",
    "ugosa = ds_sla.interp(latitude=ds_input.lat,longitude=ds_input.lon,method = 'linear')['ugosa'].astype(np.float32).values\n",
    "vgosa = ds_sla.interp(latitude=ds_input.lat,longitude=ds_input.lon,method = 'linear')['vgosa'].astype(np.float32).values\n",
    "sla_err = ds_sla.interp(latitude=ds_input.lat,longitude=ds_input.lon,method = 'linear')['err'].astype(np.float32).values\n",
    "\n",
    "ds_input = ds_input.assign(variables={\"SLA\": ((\"time\",\"lat\",\"lon\"),sla)})  \n",
    "ds_input = ds_input.assign(variables={\"UGOS\": ((\"time\",\"lat\",\"lon\"),ugos)})  \n",
    "ds_input = ds_input.assign(variables={\"VGOS\": ((\"time\",\"lat\",\"lon\"),vgos)})  \n",
    "ds_input = ds_input.assign(variables={\"UGOSA\": ((\"time\",\"lat\",\"lon\"),ugosa)})  \n",
    "ds_input = ds_input.assign(variables={\"VGOSA\": ((\"time\",\"lat\",\"lon\"),vgosa)})\n",
    "ds_input = ds_input.assign(variables={\"SLA_err\": ((\"time\",\"lat\",\"lon\"),sla_err)})\n",
    "del ds_sla,sla,ugos,vgos,ugosa,vgosa,sla_err"
   ]
  },
  {
   "cell_type": "code",
   "execution_count": null,
   "metadata": {},
   "outputs": [],
   "source": [
    "#Load Bathy\n",
    "ds_bat = xr.open_dataset('/home/datawork-lops-bluecloud/osnet/bathymetry_GulfStream.nc')\n",
    "ds_bat = ds_bat.expand_dims(\"TIME\")\n",
    "bat = ds_bat.interp(LATITUDE=ds_input.lat,LONGITUDE=ds_input.lon,method = 'linear')['bathymetry'].astype(np.float32).squeeze().values\n",
    "#bat_rep = np.repeat(bat,len(ds_input.time),axis = 0)\n",
    "ds_input = ds_input.assign(variables={\"BATHY\": ((\"lat\",\"lon\"),bat)})  \n",
    "del ds_bat,bat"
   ]
  },
  {
   "cell_type": "code",
   "execution_count": null,
   "metadata": {},
   "outputs": [],
   "source": [
    "#Load MDT and subsample\n",
    "path = '/home/datawork-lops-bluecloud/osnet/data_remote_sensing/MDT/'\n",
    "ds = xr.open_dataset(path + 'mdt-cnes-cls18-global.nc')\n",
    "ds_mdt = ds.where((ds.longitude<=-25+360) & (ds.longitude>=-85+360) & (ds.latitude<=55) & (ds.latitude>=18), drop=True)\n",
    "ds_mdt = ds_mdt.assign_coords(lon180=(((ds_mdt.longitude + 180) % 360) - 180))  \n",
    "ds_mdt['longitude'] = ds_mdt.lon180  \n",
    "\n",
    "mdt = ds_mdt.interp(latitude=ds_input.lat,longitude=ds_input.lon,method = 'linear')['mdt'].astype(np.float32).squeeze().values\n",
    "#mdt_rep = np.repeat(mdt,len(ds_input.time),axis =0)\n",
    "ds_input = ds_input.assign(variables={\"MDT\": ((\"lat\",\"lon\"),mdt)})  \n",
    "del ds_mdt,mdt"
   ]
  },
  {
   "cell_type": "code",
   "execution_count": null,
   "metadata": {},
   "outputs": [],
   "source": [
    "%%time\n",
    "#Load SST and subsample\n",
    "path = '/home/datawork-lops-bluecloud/osnet/data_remote_sensing/SST/SST_Gulf_Stream/'\n",
    "ds_sst = xr.open_mfdataset(path + '*.nc',combine='nested', concat_dim='time')\n",
    "\n",
    "sst = ds_sst.interp(lat=ds_input.lat,lon=ds_input.lon,method = 'linear')['analysed_sst'].values\n",
    "sstE = ds_sst.interp(lat=ds_input.lat,lon=ds_input.lon,method = 'linear')['analysis_uncertainty'].values\n",
    "\n",
    "ds_input = ds_input.assign(variables={\"SST\": ((\"time\",\"lat\",\"lon\"),sst-273.15)})  \n",
    "ds_input = ds_input.assign(variables={\"SST_uncertainty\": ((\"time\",\"lat\",\"lon\"),sstE)})\n",
    "del ds_sst,sst,sstE\n",
    "\n",
    "ds_input.to_netcdf('Gridded_input_intermediate.nc')\n",
    "%reset"
   ]
  },
  {
   "cell_type": "code",
   "execution_count": null,
   "metadata": {},
   "outputs": [],
   "source": [
    "ds_input = xr.open_dataset('Gridded_input_intermediate.nc')\n",
    "\n",
    "#Remove gridpoints with bathy<1000\n",
    "ds_input = ds_input.where(ds_input.BATHY < -1000)\n",
    "\n",
    "#Apply the NaN mask\n",
    "mask_ocean = 1 * np.ones((ds_input.dims['lat'], ds_input.dims['lon'])) * np.isfinite(ds_input.SST.isel(time=0))  \n",
    "mask_land = 0 * np.ones((ds_input.dims['lat'], ds_input.dims['lon'])) * np.isnan(ds_input.SST.isel(time=0))  \n",
    "mask_array = mask_ocean + mask_land\n",
    "ds_input.coords['mask'] = (('lat', 'lon'), mask_array)\n",
    "ds_input = ds_input.where(ds_input['mask'] == 1)"
   ]
  },
  {
   "cell_type": "code",
   "execution_count": null,
   "metadata": {},
   "outputs": [],
   "source": [
    "#Remove the border that do not correspond between surface datasets\n",
    "ds_input = ds_input.where((ds_input.lon<=-30) & (ds_input.lon>=-80) & (ds_input.lat<=50) & (ds_input.lat>=23), drop=True)\n",
    "\n",
    "#Verification that each gridpoint is either NaN or value (0 or 5)\n",
    "mask_SST = 1 * np.ones((ds_input.dims['lat'], ds_input.dims['lon'])) * np.isfinite(ds_input.SST.isel(time=0))  \n",
    "mask_SLA = 1 * np.ones((ds_input.dims['lat'], ds_input.dims['lon'])) * np.isfinite(ds_input.SLA.isel(time=0))  \n",
    "mask_MDT = 1 * np.ones((ds_input.dims['lat'], ds_input.dims['lon'])) * np.isfinite(ds_input.MDT)  \n",
    "mask_BAT = 1 * np.ones((ds_input.dims['lat'], ds_input.dims['lon'])) * np.isfinite(ds_input.BATHY)  \n",
    "mask_sum = mask_SST + mask_SLA + mask_MDT + mask_BAT\n",
    "mask_sum.plot()\n",
    "print(set(np.array(mask_sum).flatten()))"
   ]
  },
  {
   "cell_type": "code",
   "execution_count": null,
   "metadata": {},
   "outputs": [],
   "source": [
    "#Final save\n",
    "ds_input.to_netcdf('Gridded_input.nc')"
   ]
  }
 ],
 "metadata": {
  "kernelspec": {
   "display_name": "Python 3 (ipykernel)",
   "language": "python",
   "name": "python3"
  },
  "language_info": {
   "codemirror_mode": {
    "name": "ipython",
    "version": 3
   },
   "file_extension": ".py",
   "mimetype": "text/x-python",
   "name": "python",
   "nbconvert_exporter": "python",
   "pygments_lexer": "ipython3",
   "version": "3.8.12"
  },
  "widgets": {
   "application/vnd.jupyter.widget-state+json": {
    "state": {},
    "version_major": 2,
    "version_minor": 0
   }
  }
 },
 "nbformat": 4,
 "nbformat_minor": 4
}
